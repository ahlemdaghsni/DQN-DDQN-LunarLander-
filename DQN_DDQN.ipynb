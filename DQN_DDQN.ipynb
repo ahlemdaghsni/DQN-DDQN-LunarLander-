{
  "cells": [
    {
      "cell_type": "markdown",
      "source": [
        "\n",
        "# **Setup our environment**\n",
        "\n",
        "\n",
        "\n"
      ],
      "metadata": {
        "id": "baPZbsA3Kad7"
      },
      "id": "baPZbsA3Kad7"
    },
    {
      "cell_type": "code",
      "source": [
        "#First of all, we will start installing the needed dependencies to run the code on Colab environment.\n",
        "!(apt update && apt install xvfb ffmpeg python-opengl -y) > /dev/null 2>&1\n",
        "!pip install gym-notebook-wrapper > /dev/null 2>&1\n",
        "!pip3 install box2d-py > /dev/null 2>&1\n",
        "!pip install gym[Box2D] > /dev/null 2>&1"
      ],
      "metadata": {
        "id": "OXi5bWNFjLRN"
      },
      "id": "OXi5bWNFjLRN",
      "execution_count": null,
      "outputs": []
    },
    {
      "cell_type": "code",
      "source": [
        "#Then we perform the import of the needed libraries.\n",
        "import gnwrapper\n",
        "from tensorflow import keras\n",
        "from keras import Sequential\n",
        "from keras.layers import Conv2D, Flatten, Dense, Input, InputLayer\n",
        "from tensorflow.keras.models import Model\n",
        "from tensorflow.keras.optimizers import Adam\n",
        "import time\n",
        "\n"
      ],
      "metadata": {
        "id": "oCehOQqzjONI"
      },
      "id": "oCehOQqzjONI",
      "execution_count": null,
      "outputs": []
    },
    {
      "cell_type": "code",
      "execution_count": null,
      "id": "2acdaad5-ff58-40aa-a705-6330b622d01b",
      "metadata": {
        "id": "2acdaad5-ff58-40aa-a705-6330b622d01b"
      },
      "outputs": [],
      "source": [
        "import numpy as np\n",
        "import matplotlib.pyplot as plt\n",
        "from matplotlib import animation\n",
        "from collections import namedtuple, deque\n",
        "from tqdm import tqdm\n",
        "%matplotlib inline\n",
        "import gym\n",
        "from datetime import datetime\n",
        "import pandas as pd  \n",
        "import torch\n",
        "import torch.nn as nn\n",
        "import torch.nn.functional as F\n",
        "import torch.optim as optim\n",
        "import random\n",
        "from collections import namedtuple, deque\n",
        "import itertools\n"
      ]
    },
    {
      "cell_type": "markdown",
      "source": [
        "# **Inspecting gym**\n",
        "\n",
        "\n",
        "\n"
      ],
      "metadata": {
        "id": "pmMF98yzLA0c"
      },
      "id": "pmMF98yzLA0c"
    },
    {
      "cell_type": "code",
      "source": [
        "ENVIRONMENT = 'LunarLander-v2'\n",
        "PATH='/content/media/finale/LunarLander-v2'"
      ],
      "metadata": {
        "id": "o6w47APcjOW4"
      },
      "id": "o6w47APcjOW4",
      "execution_count": null,
      "outputs": []
    },
    {
      "cell_type": "code",
      "source": [
        "env = gnwrapper.Monitor(gym.make(ENVIRONMENT), PATH)"
      ],
      "metadata": {
        "id": "CHWHuFB5jOlz"
      },
      "id": "CHWHuFB5jOlz",
      "execution_count": null,
      "outputs": []
    },
    {
      "cell_type": "code",
      "source": [
        "obs = env.reset()\n",
        "plt.imshow(env.render(mode='rgb_array'))\n",
        "plt.show()"
      ],
      "metadata": {
        "colab": {
          "base_uri": "https://localhost:8080/",
          "height": 269
        },
        "id": "ag5o76AeLE4k",
        "outputId": "c574785a-f2dc-4774-8136-92908bbca7f1"
      },
      "id": "ag5o76AeLE4k",
      "execution_count": null,
      "outputs": [
        {
          "output_type": "display_data",
          "data": {
            "image/png": "[encoded data removed]",
            "text/plain": [
              "<Figure size 432x288 with 1 Axes>"
            ]
          },
          "metadata": {
            "needs_background": "light"
          }
        }
      ]
    },
    {
      "cell_type": "markdown",
      "source": [
        "# **DQN classes definition**\n",
        "\n",
        "\n",
        "\n"
      ],
      "metadata": {
        "id": "shvjKIPSLnK1"
      },
      "id": "shvjKIPSLnK1"
    },
    {
      "cell_type": "markdown",
      "source": [
        "--> QNetwork definition"
      ],
      "metadata": {
        "id": "JXlJUuiuLyr2"
      },
      "id": "JXlJUuiuLyr2"
    },
    {
      "cell_type": "code",
      "execution_count": null,
      "id": "f68cbeaf-32fd-4565-9b94-f84bb5b17fa2",
      "metadata": {
        "tags": [],
        "id": "f68cbeaf-32fd-4565-9b94-f84bb5b17fa2"
      },
      "outputs": [],
      "source": [
        "class QNetwork(nn.Module):\n",
        "    \"\"\"Actor (Policy) Model.\"\"\"\n",
        "\n",
        "    def __init__(self, state_size, action_size, seed, fc1_units=64, fc2_units=64):\n",
        "        \"\"\"Initialize parameters and build model.\n",
        "        Params\n",
        "        ======\n",
        "            state_size (int): Dimension of each state\n",
        "            action_size (int): Dimension of each action\n",
        "            seed (int): Random seed\n",
        "            fc1_units (int): Number of nodes in first hidden layer\n",
        "            fc2_units (int): Number of nodes in second hidden layer\n",
        "        \"\"\"\n",
        "        super(QNetwork, self).__init__()\n",
        "        self.seed = torch.manual_seed(seed)\n",
        "        self.fc1 = nn.Linear(state_size, fc1_units)\n",
        "        self.fc2 = nn.Linear(fc1_units, fc2_units)\n",
        "        self.fc3 = nn.Linear(fc2_units, action_size)\n",
        "\n",
        "    def forward(self, state):\n",
        "        \"\"\"Build a network that maps state -> action values.\"\"\"\n",
        "        \n",
        "        x = F.relu(self.fc1(state))\n",
        "        x = F.relu(self.fc2(x))\n",
        "        return self.fc3(x)"
      ]
    },
    {
      "cell_type": "markdown",
      "source": [
        "--> ReplayBuffer definition"
      ],
      "metadata": {
        "id": "hwd6RifHMCWd"
      },
      "id": "hwd6RifHMCWd"
    },
    {
      "cell_type": "code",
      "execution_count": null,
      "id": "ad7046d2-05b9-4b28-a347-21c089c42763",
      "metadata": {
        "tags": [],
        "id": "ad7046d2-05b9-4b28-a347-21c089c42763"
      },
      "outputs": [],
      "source": [
        "# device = torch.device(\"cuda:0\" if torch.cuda.is_available() else \"cpu\")\n",
        "device = torch.device(\"cpu\")\n",
        "\n",
        "class ReplayBuffer:\n",
        "    \"\"\"Fixed-size buffer to store experience tuples.\"\"\"\n",
        "\n",
        "    def __init__(self, state_size, action_size, buffer_size, batch_size,):\n",
        "        \"\"\"Initialize a ReplayBuffer object.\n",
        "        Params\n",
        "        ======\n",
        "            action_size (int): dimension of each action\n",
        "            buffer_size (int): maximum size of buffer (chosen as multiple of num agents)\n",
        "            batch_size (int): size of each training batch\n",
        "            seed (int): random seed\n",
        "        \"\"\"\n",
        "        self.states = torch.zeros((buffer_size,)+(state_size,)).to(device)\n",
        "        self.next_states = torch.zeros((buffer_size,)+(state_size,)).to(device)\n",
        "        self.actions = torch.zeros(buffer_size,1, dtype=torch.long).to(device)\n",
        "        self.rewards = torch.zeros(buffer_size, 1, dtype=torch.float).to(device)\n",
        "        self.dones = torch.zeros(buffer_size, 1, dtype=torch.float).to(device)\n",
        "        self.e = np.zeros((buffer_size, 1), dtype=np.float)\n",
        "        \n",
        "\n",
        "        self.ptr = 0\n",
        "        self.n = 0\n",
        "        self.buffer_size = buffer_size\n",
        "        self.batch_size = batch_size\n",
        "    \n",
        "    def add(self, state, action, reward, next_state, done):\n",
        "        \"\"\"Add a new experience to memory.\"\"\"\n",
        "        self.states[self.ptr] = torch.from_numpy(state).to(device)\n",
        "        self.next_states[self.ptr] = torch.from_numpy(next_state).to(device)\n",
        "        \n",
        "        self.actions[self.ptr] = torch.from_numpy(np.asarray(action)).to(device)\n",
        "        self.rewards[self.ptr] = torch.from_numpy(np.asarray(reward)).to(device)\n",
        "        self.dones[self.ptr] = done\n",
        "        \n",
        "        self.ptr += 1\n",
        "        if self.ptr >= self.buffer_size:\n",
        "            self.ptr = 0\n",
        "            self.n = self.buffer_size\n",
        "\n",
        "    def sample(self, get_all=False):\n",
        "        \"\"\"Randomly sample a batch of experiences from memory.\"\"\"\n",
        "        n = len(self)\n",
        "        if get_all:\n",
        "            return self.states[:n], self.actions[:n], self.rewards[:n], self.next_states[:n], self.dones[:n]\n",
        "        \n",
        "        idx = np.random.choice(n, self.batch_size, replace=False)\n",
        "        \n",
        "        states = self.states[idx]\n",
        "        next_states = self.next_states[idx]\n",
        "        actions = self.actions[idx]\n",
        "        rewards = self.rewards[idx]\n",
        "        dones = self.dones[idx]\n",
        "        \n",
        "        return (states, actions, rewards, next_states, dones), idx\n",
        "      \n",
        "    def update_error(self, e, idx=None):\n",
        "        e = torch.abs(e.detach())\n",
        "        e = e / e.sum()\n",
        "        if idx is not None:\n",
        "            self.e[idx] = e.cpu().numpy()\n",
        "        else:\n",
        "            self.e[:len(self)] = e.cpu().numpy()\n",
        "        \n",
        "    def __len__(self):\n",
        "        if self.n == 0:\n",
        "            return self.ptr\n",
        "        else:\n",
        "            return self.n"
      ]
    },
    {
      "cell_type": "markdown",
      "source": [
        "--> DDQNAgent definition"
      ],
      "metadata": {
        "id": "yCD0GnAxMGbu"
      },
      "id": "yCD0GnAxMGbu"
    },
    {
      "cell_type": "code",
      "execution_count": null,
      "id": "384b501e-ee05-45ed-be87-866b7204cb66",
      "metadata": {
        "tags": [],
        "id": "384b501e-ee05-45ed-be87-866b7204cb66"
      },
      "outputs": [],
      "source": [
        "class DDQNAgent():\n",
        "    \"\"\"Interacts with and learns from the environment.\"\"\"\n",
        "\n",
        "    def __init__(self, state_size, action_size, seed=42, ddqn=True):\n",
        "        \"\"\"Initialize an Agent object.\n",
        "        \n",
        "        Params\n",
        "        ======\n",
        "            state_size (int): dimension of each state\n",
        "            action_size (int): dimension of each action\n",
        "            seed (int): random seed\n",
        "        \"\"\"\n",
        "        self.state_size = state_size\n",
        "        self.action_size = action_size\n",
        "        self.seed = random.seed(seed)\n",
        "        self.ddqn = ddqn\n",
        "\n",
        "        \n",
        "        self.qnetwork_local = QNetwork(state_size, action_size, seed).to(device)\n",
        "        self.qnetwork_target = QNetwork(state_size, action_size, seed).to(device)\n",
        "        self.optimizer = optim.Adam(self.qnetwork_local.parameters(), lr=LR)\n",
        "\n",
        "        # Replay memory\n",
        "        self.memory = ReplayBuffer(state_size, (action_size,), BUFFER_SIZE, BATCH_SIZE)\n",
        "        # Initialize time step (for updating every UPDATE_EVERY steps)\n",
        "        self.t_step = 0\n",
        "    \n",
        "    def step(self, state, action, reward, next_state, done):\n",
        "        # Save experience in replay memory\n",
        "        self.memory.add(state, action, reward, next_state, done)\n",
        "        \n",
        "        # Learn every UPDATE_EVERY time steps.\n",
        "        self.t_step = (self.t_step + 1) % UPDATE_EVERY\n",
        "        if self.t_step == 0:\n",
        "            # If enough samples are available in memory, get random subset and learn\n",
        "            if len(self.memory) > BATCH_SIZE:\n",
        "                experiences, idx = self.memory.sample()\n",
        "                e = self.learn(experiences)\n",
        "                self.memory.update_error(e, idx)\n",
        "    \n",
        "    def act(self, state, eps=0.):\n",
        "        \"\"\"Returns actions for given state as per current policy.\n",
        "        \n",
        "        Params\n",
        "        ======\n",
        "            state (array_like): current state\n",
        "            eps (float): epsilon, for epsilon-greedy action selection\n",
        "        \"\"\"\n",
        "        state = torch.from_numpy(state).float().unsqueeze(0).to(device)\n",
        "        self.qnetwork_local.eval()\n",
        "        with torch.no_grad():\n",
        "            action_values = self.qnetwork_local(state)\n",
        "        self.qnetwork_local.train()\n",
        "\n",
        "        # Epsilon-greedy action selection\n",
        "        if random.random() > eps:\n",
        "            return np.argmax(action_values.cpu().data.numpy())\n",
        "        else:\n",
        "            return random.choice(np.arange(self.action_size))\n",
        "          \n",
        "    def update_error(self):\n",
        "        states, actions, rewards, next_states, dones = self.memory.sample(get_all=True)\n",
        "        with torch.no_grad():\n",
        "            if self.ddqn:\n",
        "                old_val = self.qnetwork_local(states).gather(-1, actions)\n",
        "                actions = self.qnetwork_local(next_states).argmax(-1, keepdim=True)\n",
        "                maxQ = self.qnetwork_target(next_states).gather(-1, actions)\n",
        "                target = rewards+GAMMA*maxQ*(1-dones)\n",
        "            else: # Normal DQN\n",
        "                maxQ = self.qnetwork_target(next_states).max(-1, keepdim=True)[0]\n",
        "                target = rewards+GAMMA*maxQ*(1-dones)\n",
        "                old_val = self.qnetwork_local(states).gather(-1, actions)\n",
        "            e = old_val - target\n",
        "            self.memory.update_error(e)\n",
        "\n",
        "    def learn(self, experiences):\n",
        "        \"\"\"Update value parameters using given batch of experience tuples.\n",
        "        Params\n",
        "        ======\n",
        "            experiences (Tuple[torch.Variable]): tuple of (s, a, r, s', done) tuples \n",
        "            gamma (float): discount factor\n",
        "        \"\"\"\n",
        "        states, actions, rewards, next_states, dones = experiences\n",
        "\n",
        "        ## compute and minimize the loss\n",
        "        self.optimizer.zero_grad()\n",
        "        if self.ddqn:\n",
        "            old_val = self.qnetwork_local(states).gather(-1, actions)\n",
        "            with torch.no_grad():\n",
        "                next_actions = self.qnetwork_local(next_states).argmax(-1, keepdim=True)\n",
        "                maxQ = self.qnetwork_target(next_states).gather(-1, next_actions)\n",
        "                target = rewards+GAMMA*maxQ*(1-dones)\n",
        "        else: # Normal DQN\n",
        "            with torch.no_grad():\n",
        "                maxQ = self.qnetwork_target(next_states).max(-1, keepdim=True)[0]\n",
        "                target = rewards+GAMMA*maxQ*(1-dones)\n",
        "            old_val = self.qnetwork_local(states).gather(-1, actions)   \n",
        "        \n",
        "        loss = F.mse_loss(old_val, target)\n",
        "        loss.backward()\n",
        "        self.optimizer.step()\n",
        "\n",
        "        # update target network\n",
        "        self.soft_update(self.qnetwork_local, self.qnetwork_target, TAU) \n",
        "        \n",
        "        return old_val - target\n",
        "\n",
        "\n",
        "    def soft_update(self, local_model, target_model, tau):\n",
        "        \"\"\"Soft update model parameters.\n",
        "        θ_target = τ*θ_local + (1 - τ)*θ_target\n",
        "        Params\n",
        "        ======\n",
        "            local_model (PyTorch model): weights will be copied from\n",
        "            target_model (PyTorch model): weights will be copied to\n",
        "            tau (float): interpolation parameter \n",
        "        \"\"\"\n",
        "        for target_param, local_param in zip(target_model.parameters(), local_model.parameters()):\n",
        "            target_param.data.copy_(tau*local_param.data + (1.0-tau)*target_param.data)"
      ]
    },
    {
      "cell_type": "markdown",
      "source": [
        "# **Hyperparameters definition**\n",
        "\n",
        "\n",
        "\n"
      ],
      "metadata": {
        "id": "5YFbRrktMQfI"
      },
      "id": "5YFbRrktMQfI"
    },
    {
      "cell_type": "code",
      "execution_count": null,
      "id": "c6017732-dee6-4ad0-8b02-f07ff9771ab7",
      "metadata": {
        "tags": [],
        "id": "c6017732-dee6-4ad0-8b02-f07ff9771ab7"
      },
      "outputs": [],
      "source": [
        "BUFFER_SIZE = int(1e5)  # replay buffer size\n",
        "BATCH_SIZE = 64         # minibatch size\n",
        "GAMMA = 0.99            # discount factor\n",
        "TAU = 1e-3              # for soft update of target parameters\n",
        "LR = 5e-4               # learning rate \n",
        "UPDATE_EVERY = 4        # how often to update the network"
      ]
    },
    {
      "cell_type": "code",
      "execution_count": null,
      "id": "c9f28474-ec33-4c24-abe4-b58d8707176f",
      "metadata": {
        "id": "c9f28474-ec33-4c24-abe4-b58d8707176f"
      },
      "outputs": [],
      "source": [
        "n_episodes=2000         # Episodes Number\n",
        "max_t=1000              # Max steps to do \n",
        "eps_start=1.0           # Epsilons starts from 1\n",
        "eps_end=0.01            # Epsilons stay at 0.01 to for the rest\n",
        "eps_decay=0.995         # Epsilon Decay "
      ]
    },
    {
      "cell_type": "markdown",
      "source": [
        "# **Running the agent**\n",
        "\n",
        "\n",
        "\n"
      ],
      "metadata": {
        "id": "6vTdTauIMZV_"
      },
      "id": "6vTdTauIMZV_"
    },
    {
      "cell_type": "markdown",
      "source": [
        "DQN Model !"
      ],
      "metadata": {
        "id": "7JjwhzFNMjz-"
      },
      "id": "7JjwhzFNMjz-"
    },
    {
      "cell_type": "code",
      "source": [
        "res=[] # the total reward of each episode is going to be stored in res[0]\n",
        "rewards = []\n",
        "aver_reward = []\n",
        "aver = deque(maxlen=100)\n",
        "state_size = env.observation_space.shape[0]\n",
        "action_size=env.action_space.n\n",
        "agent_DQN = DDQNAgent(state_size, action_size, 1, ddqn=False)\n",
        "eps = eps_start                    # initialize epsilon\n",
        "for i_episode in tqdm(range(1, n_episodes+1)):\n",
        "            state = env.reset()\n",
        "            score = 0\n",
        "            for t in range(max_t):\n",
        "                action = agent_DQN.act(state, eps)\n",
        "                next_state, reward, done, _ = env.step(action)\n",
        "                agent_DQN.step(state, action, reward, next_state, done)\n",
        "                state = next_state\n",
        "                score += reward\n",
        "                if done:\n",
        "                    break \n",
        "\n",
        "            aver.append(score)     \n",
        "            aver_reward.append(np.mean(aver))\n",
        "            rewards.append(score)\n",
        "            eps = max(eps_end, eps_decay*eps) # decrease epsilon\n",
        "            \n",
        "reward=\"/content/media/\"+\"LunarLander-v2\"+\"_ DQN _\"+str(n_episodes)+\"_\"+str(datetime.now().strftime(\"%Y%m%d%H%M%S\"))        \n",
        "torch.save(agent_DQN.qnetwork_local.state_dict(),reward+'.pth')\n",
        "res.append(aver_reward)"
      ],
      "metadata": {
        "colab": {
          "base_uri": "https://localhost:8080/"
        },
        "id": "Bcc7grecDGcr",
        "outputId": "6b7975a5-f4df-4a07-f5af-76b442bea3db"
      },
      "id": "Bcc7grecDGcr",
      "execution_count": null,
      "outputs": [
        {
          "output_type": "stream",
          "name": "stderr",
          "text": [
            "100%|██████████| 2000/2000 [36:03<00:00,  1.08s/it]\n"
          ]
        }
      ]
    },
    {
      "cell_type": "markdown",
      "source": [
        "DDQN Model !"
      ],
      "metadata": {
        "id": "LCqxzpZwMrZT"
      },
      "id": "LCqxzpZwMrZT"
    },
    {
      "cell_type": "code",
      "source": [
        "rewards = [] # the total reward of each episode is going to be stored in res[1]\n",
        "aver_reward = []\n",
        "aver = deque(maxlen=100)\n",
        "state_size = env.observation_space.shape[0]\n",
        "action_size=env.action_space.n\n",
        "agent_DDQN = DDQNAgent(state_size, action_size, 1, ddqn=True)\n",
        "eps = eps_start                    # initialize epsilon\n",
        "for i_episode in tqdm(range(1, n_episodes+1)):\n",
        "            state = env.reset()\n",
        "            score = 0\n",
        "            for t in range(max_t):\n",
        "                action = agent_DDQN.act(state, eps)\n",
        "                next_state, reward, done, _ = env.step(action)\n",
        "                agent_DDQN.step(state, action, reward, next_state, done)\n",
        "                state = next_state\n",
        "                score += reward\n",
        "                if done:\n",
        "                    break \n",
        "\n",
        "            aver.append(score)     \n",
        "            aver_reward.append(np.mean(aver))\n",
        "            rewards.append(score)\n",
        "            eps = max(eps_end, eps_decay*eps) # decrease epsilon\n",
        "            \n",
        "reward=\"/content/media/\"+\"LunarLander-v2\"+\"_ DDQN _\"+str(n_episodes)+\"_\"+str(datetime.now().strftime(\"%Y%m%d%H%M%S\"))        \n",
        "torch.save(agent_DDQN.qnetwork_local.state_dict(),reward+'.pth')\n",
        "res.append(aver_reward)"
      ],
      "metadata": {
        "colab": {
          "base_uri": "https://localhost:8080/"
        },
        "id": "r9bCPI09Dhe3",
        "outputId": "b23930b7-d09f-4ec0-a8bd-8cd39f00befd"
      },
      "id": "r9bCPI09Dhe3",
      "execution_count": null,
      "outputs": [
        {
          "output_type": "stream",
          "name": "stderr",
          "text": [
            "100%|██████████| 2000/2000 [34:37<00:00,  1.04s/it]\n"
          ]
        }
      ]
    },
    {
      "cell_type": "markdown",
      "source": [
        "# **Results**\n",
        "\n",
        "\n",
        "\n"
      ],
      "metadata": {
        "id": "EZa3MGm-bYO_"
      },
      "id": "EZa3MGm-bYO_"
    },
    {
      "cell_type": "code",
      "source": [
        "df1 = pd.DataFrame(res[0], columns=['DQN'])\n",
        "df2 = pd.DataFrame(res[1], columns=['DDQN'])"
      ],
      "metadata": {
        "id": "SIrA4Bj8bnht"
      },
      "id": "SIrA4Bj8bnht",
      "execution_count": null,
      "outputs": []
    },
    {
      "cell_type": "code",
      "source": [
        "fig=plt.figure()   \n",
        "plt.xlabel(\"Episode\")\n",
        "plt.ylabel(\"Reward\")\n",
        "plt.plot(df1['DQN'], 'red', label='DQN')\n",
        "\n",
        "plt.xlabel(\"Episode\")\n",
        "plt.ylabel(\"Reward\")\n",
        "plt.plot(df2['DDQN'], 'orange',label='DDQN')\n",
        "    \n",
        "plt.title('Learning Curve '+\"LunarLander-v2\")\n",
        "fig.legend(loc='lower right')\n",
        "fig.savefig(reward+'.png', dpi=100)\n",
        "fig.show()   "
      ],
      "metadata": {
        "colab": {
          "base_uri": "https://localhost:8080/",
          "height": 351
        },
        "id": "DygGhYuMNTr5",
        "outputId": "84d50e5a-e3b7-4a2c-8a7b-eb37c7a757e2"
      },
      "id": "DygGhYuMNTr5",
      "execution_count": null,
      "outputs": [
        {
          "output_type": "stream",
          "name": "stderr",
          "text": [
            "/usr/local/lib/python3.7/dist-packages/ipykernel_launcher.py:13: UserWarning: Matplotlib is currently using module://ipykernel.pylab.backend_inline, which is a non-GUI backend, so cannot show the figure.\n",
            "  del sys.path[0]\n"
          ]
        },
        {
          "output_type": "display_data",
          "data": {
            "image/png": "[encoded data removed]",
            "text/plain": [
              "<Figure size 432x288 with 1 Axes>"
            ]
          },
          "metadata": {
            "needs_background": "light"
          }
        }
      ]
    },
    {
      "cell_type": "code",
      "source": [
        "print(\"Max reward reached in DQN : = \"+ str(max(res[0])))\n",
        "print(\"-----------------------------\")\n",
        "print(\"Max reward reached in DDQN : = \"+ str(max(res[1])))"
      ],
      "metadata": {
        "colab": {
          "base_uri": "https://localhost:8080/"
        },
        "id": "mg-p270OKP4D",
        "outputId": "80de6fd6-9067-436d-87fc-e5faf36f99bb"
      },
      "id": "mg-p270OKP4D",
      "execution_count": null,
      "outputs": [
        {
          "output_type": "stream",
          "name": "stdout",
          "text": [
            "Max reward reached in DQN : = 246.64227180980913\n",
            "-----------------------------\n",
            "Max reward reached in DDQN : = 274.77587673763526\n"
          ]
        }
      ]
    },
    {
      "cell_type": "code",
      "source": [
        ""
      ],
      "metadata": {
        "id": "iiNwTTsiekBN"
      },
      "id": "iiNwTTsiekBN",
      "execution_count": null,
      "outputs": []
    }
  ],
  "metadata": {
    "kernelspec": {
      "display_name": "Python 3",
      "language": "python",
      "name": "python3"
    },
    "language_info": {
      "codemirror_mode": {
        "name": "ipython",
        "version": 3
      },
      "file_extension": ".py",
      "mimetype": "text/x-python",
      "name": "python",
      "nbconvert_exporter": "python",
      "pygments_lexer": "ipython3",
      "version": "3.7.3"
    },
    "colab": {
      "name": " DQN DDQN.ipynb",
      "provenance": [],
      "collapsed_sections": []
    }
  },
  "nbformat": 4,
  "nbformat_minor": 5
}